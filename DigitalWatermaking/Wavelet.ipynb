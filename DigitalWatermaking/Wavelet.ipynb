{
 "cells": [
  {
   "cell_type": "markdown",
   "metadata": {},
   "source": [
    "##  Digital Watermaking by Dugad algorithm"
   ]
  },
  {
   "cell_type": "markdown",
   "metadata": {},
   "source": [
    "Задача: поставить подпись на изображение и иметь возможность ее обнаружить. Для этого используем wavelet-преобразование.\n",
    "Для начала сделаем необходимые включения:"
   ]
  },
  {
   "cell_type": "code",
   "execution_count": 1,
   "metadata": {},
   "outputs": [],
   "source": [
    "import numpy as np\n",
    "import matplotlib.pyplot as plt\n",
    "from pywt._multidim import dwt2,idwt2\n",
    "from PIL import Image\n",
    "import numpy as np"
   ]
  },
  {
   "cell_type": "markdown",
   "metadata": {},
   "source": [
    "Далее зафиксируем значение параметра альфа (коэффициент в преобразовании). Ключом будет являться переменная w,\n",
    "которая в нашем случае будет просто генерироваться по заданному seed. Она будет создана сразу после получения размеров изображения."
   ]
  },
  {
   "cell_type": "code",
   "execution_count": 10,
   "metadata": {},
   "outputs": [],
   "source": [
    "alpha = 0.3\n",
    "np.random.seed(645)"
   ]
  },
  {
   "cell_type": "markdown",
   "metadata": {},
   "source": [
    "Возьмем изображение '2.bmp' (вообще наш алгоритм позволяет работать и с JPEG). Сделаем  wavelet-преобразование"
   ]
  },
  {
   "cell_type": "code",
   "execution_count": 12,
   "metadata": {},
   "outputs": [],
   "source": [
    "a = Image.open('2.bmp')\n",
    "a = a.convert('YCbCr')\n",
    "pix = a.load() # Доступ к пикселям\n",
    "    \n",
    "size_x  = a.size[0]\n",
    "size_y = a.size[1]\n",
    "data = np.zeros((size_x,size_y)) # Массив с пикселями\n",
    "\n",
    "w = np.random.randn(size_x,size_y) # Для генерации подписи\n",
    "\n",
    "for i in range(size_x):\n",
    "    for j in range(size_y):\n",
    "        data[i,j] = pix[i,j][0] # Работаем с яркостью\n",
    "\n",
    "cA, (cH, cV, cD) = dwt2(data,'db4') # Непосредственно преобразование"
   ]
  },
  {
   "cell_type": "markdown",
   "metadata": {},
   "source": [
    "## Encryption"
   ]
  },
  {
   "cell_type": "markdown",
   "metadata": {},
   "source": [
    "Далее прибавим к коэффициентам, которые больше T1, некоторое значение. Параметр alpha был подобран экспериментально. Преобразование выполняется согласно алгоритму."
   ]
  },
  {
   "cell_type": "code",
   "execution_count": 14,
   "metadata": {},
   "outputs": [],
   "source": [
    "T1 = 40\n",
    "for i in range(cV.shape[0]):\n",
    "    for j in range(cV.shape[1]):\n",
    "        if cV[i,j] > T1:\n",
    "            cV[i,j] += alpha*w[i,j]*abs(cV[i,j])\n",
    "for i in range(cH.shape[0]):\n",
    "    for j in range(cH.shape[1]):\n",
    "        if cH[i,j] > T1:\n",
    "            cH[i,j] += alpha*w[i,j]*abs(cH[i,j])\n",
    "for i in range(cD.shape[0]):\n",
    "    for j in range(cD.shape[1]):\n",
    "        if cD[i,j] > T1:\n",
    "            cD[i,j] += alpha*w[i,j]*abs(cD[i,j])"
   ]
  },
  {
   "cell_type": "markdown",
   "metadata": {},
   "source": [
    "Выполним обратное преобразование с измененнными матрицами коэффициентов."
   ]
  },
  {
   "cell_type": "code",
   "execution_count": 16,
   "metadata": {},
   "outputs": [],
   "source": [
    "ret = idwt2((cA,(cH,cV,cD)),'db4')\n",
    "for i in range(size_x):\n",
    "    for j in range(size_y):\n",
    "        pix[i,j] = (int(ret[i,j]),pix[i,j][1],pix[i,j][2])\n",
    "a.save('well.jpg')"
   ]
  },
  {
   "cell_type": "markdown",
   "metadata": {},
   "source": [
    "## Validation"
   ]
  },
  {
   "cell_type": "markdown",
   "metadata": {},
   "source": [
    "Для валидации существующей подписи откроем сохраненное изображение с подписью"
   ]
  },
  {
   "cell_type": "code",
   "execution_count": 17,
   "metadata": {},
   "outputs": [],
   "source": [
    "test = Image.open('well.jpg')\n",
    "test = test.convert('YCbCr')\n",
    "pixels = test.load()\n",
    "    \n",
    "size_x  = test.size[0]\n",
    "size_y = test.size[1]\n",
    "data = np.zeros((size_x,size_y))\n",
    "\n",
    "for i in range(size_x):\n",
    "    for j in range(size_y):\n",
    "        data[i,j] = pixels[i,j][0]\n",
    "cA, (cH, cV, cD) = dwt2(data,'db6')"
   ]
  },
  {
   "cell_type": "markdown",
   "metadata": {},
   "source": [
    "Теперь установим порог T2=50 и будем вычислять корреляцию"
   ]
  },
  {
   "cell_type": "code",
   "execution_count": 18,
   "metadata": {},
   "outputs": [],
   "source": [
    "T2 = 50\n",
    "z = 0\n",
    "m = 0\n",
    "for i in range(cV.shape[0]):\n",
    "    for j in range(cV.shape[1]):\n",
    "        if cV[i,j] > T2:\n",
    "            m += 1\n",
    "            z += cV[i,j]*w[i,j]\n",
    "for i in range(cH.shape[0]):\n",
    "    for j in range(cH.shape[1]):\n",
    "        if cH[i,j] > T2:\n",
    "            m += 1\n",
    "            z += cH[i,j]*w[i,j]\n",
    "for i in range(cD.shape[0]):\n",
    "    for j in range(cD.shape[1]):\n",
    "        if cD[i,j] > T2:\n",
    "            m += 1\n",
    "            z += cD[i,j]*w[i,j]\n",
    "z = z / m\n",
    "s = 0\n",
    "m = 0\n",
    "for i in range(cV.shape[0]):\n",
    "    for j in range(cV.shape[1]):\n",
    "        if cV[i,j] > T2:\n",
    "            m += 1\n",
    "            s += abs(cV[i,j])\n",
    "for i in range(cH.shape[0]):\n",
    "    for j in range(cH.shape[1]):\n",
    "        if cH[i,j] > T2:\n",
    "            m += 1\n",
    "            s += abs(cH[i,j])\n",
    "for i in range(cD.shape[0]):\n",
    "    for j in range(cD.shape[1]):\n",
    "        if cD[i,j] > T2:\n",
    "            m += 1\n",
    "            s += abs(cD[i,j])\n",
    "s = alpha * s/ (2 * m) "
   ]
  },
  {
   "cell_type": "markdown",
   "metadata": {},
   "source": [
    "Итак, у нас есть два значения: z и s. Как утверждает алгоритм, если z>s, то заданная подпись есть на изображении"
   ]
  },
  {
   "cell_type": "code",
   "execution_count": 19,
   "metadata": {},
   "outputs": [
    {
     "data": {
      "text/plain": [
       "True"
      ]
     },
     "execution_count": 19,
     "metadata": {},
     "output_type": "execute_result"
    }
   ],
   "source": [
    "z>s"
   ]
  },
  {
   "cell_type": "markdown",
   "metadata": {},
   "source": [
    "Ради интереса изменим подпись и выполним валидацию еще раз. Дабы не использовать клетки снизу вверх, просто воспользуемся методом Copy-Paste"
   ]
  },
  {
   "cell_type": "code",
   "execution_count": 21,
   "metadata": {},
   "outputs": [],
   "source": [
    "np.random.seed(13)\n",
    "w = np.random.randn(size_x,size_y)"
   ]
  },
  {
   "cell_type": "code",
   "execution_count": 22,
   "metadata": {},
   "outputs": [],
   "source": [
    "test = Image.open('well.jpg')\n",
    "test = test.convert('YCbCr')\n",
    "pixels = test.load()\n",
    "    \n",
    "size_x  = test.size[0]\n",
    "size_y = test.size[1]\n",
    "data = np.zeros((size_x,size_y))\n",
    "\n",
    "for i in range(size_x):\n",
    "    for j in range(size_y):\n",
    "        data[i,j] = pixels[i,j][0]\n",
    "cA, (cH, cV, cD) = dwt2(data,'db6')\n",
    "T2 = 50\n",
    "z = 0\n",
    "m = 0\n",
    "for i in range(cV.shape[0]):\n",
    "    for j in range(cV.shape[1]):\n",
    "        if cV[i,j] > T2:\n",
    "            m += 1\n",
    "            z += cV[i,j]*w[i,j]\n",
    "for i in range(cH.shape[0]):\n",
    "    for j in range(cH.shape[1]):\n",
    "        if cH[i,j] > T2:\n",
    "            m += 1\n",
    "            z += cH[i,j]*w[i,j]\n",
    "for i in range(cD.shape[0]):\n",
    "    for j in range(cD.shape[1]):\n",
    "        if cD[i,j] > T2:\n",
    "            m += 1\n",
    "            z += cD[i,j]*w[i,j]\n",
    "z = z / m\n",
    "s = 0\n",
    "m = 0\n",
    "for i in range(cV.shape[0]):\n",
    "    for j in range(cV.shape[1]):\n",
    "        if cV[i,j] > T2:\n",
    "            m += 1\n",
    "            s += abs(cV[i,j])\n",
    "for i in range(cH.shape[0]):\n",
    "    for j in range(cH.shape[1]):\n",
    "        if cH[i,j] > T2:\n",
    "            m += 1\n",
    "            s += abs(cH[i,j])\n",
    "for i in range(cD.shape[0]):\n",
    "    for j in range(cD.shape[1]):\n",
    "        if cD[i,j] > T2:\n",
    "            m += 1\n",
    "            s += abs(cD[i,j])\n",
    "s = alpha * s/ (2 * m) "
   ]
  },
  {
   "cell_type": "markdown",
   "metadata": {},
   "source": [
    "Мы изменили подпись, но не меняли изображение. Ожидаемый результат: z < s"
   ]
  },
  {
   "cell_type": "code",
   "execution_count": 23,
   "metadata": {},
   "outputs": [
    {
     "data": {
      "text/plain": [
       "True"
      ]
     },
     "execution_count": 23,
     "metadata": {},
     "output_type": "execute_result"
    }
   ],
   "source": [
    "z < s"
   ]
  },
  {
   "cell_type": "markdown",
   "metadata": {},
   "source": [
    "Таким образом, то чего нет - необнаружено. А то что есть - найдено. \n",
    "В ходе тестов установлено, что алгоритм устойчив к сжатию и изменению яркости изображения. Однако не усточив при обрезании изоображения."
   ]
  }
 ],
 "metadata": {
  "kernelspec": {
   "display_name": "Python 3",
   "language": "python",
   "name": "python3"
  },
  "language_info": {
   "codemirror_mode": {
    "name": "ipython",
    "version": 3
   },
   "file_extension": ".py",
   "mimetype": "text/x-python",
   "name": "python",
   "nbconvert_exporter": "python",
   "pygments_lexer": "ipython3",
   "version": "3.5.2"
  }
 },
 "nbformat": 4,
 "nbformat_minor": 2
}
